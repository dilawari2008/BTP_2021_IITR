{
  "nbformat": 4,
  "nbformat_minor": 0,
  "metadata": {
    "colab": {
      "name": "BTP_v1.ipynb",
      "provenance": []
    },
    "kernelspec": {
      "name": "python3",
      "display_name": "Python 3"
    },
    "accelerator": "GPU"
  },
  "cells": [
    {
      "cell_type": "code",
      "metadata": {
        "colab": {
          "base_uri": "https://localhost:8080/"
        },
        "id": "yYEU12ZJ3FKc",
        "outputId": "0c9ad28f-7530-41ac-f886-1d29a2a13c2c"
      },
      "source": [
        "from google.colab import drive\r\n",
        "drive.mount('/content/drive')"
      ],
      "execution_count": null,
      "outputs": [
        {
          "output_type": "stream",
          "text": [
            "Mounted at /content/drive\n"
          ],
          "name": "stdout"
        }
      ]
    },
    {
      "cell_type": "code",
      "metadata": {
        "id": "DBmEBZyB3PzR"
      },
      "source": [
        "import itertools\r\n",
        "import numpy as np\r\n",
        "import matplotlib.pyplot as plt\r\n",
        "from matplotlib.ticker import NullFormatter\r\n",
        "import pandas as pd\r\n",
        "import numpy as np\r\n",
        "import matplotlib.ticker as ticker\r\n",
        "from sklearn import preprocessing\r\n",
        "from sklearn.metrics import classification_report, confusion_matrix\r\n",
        "import itertools\r\n",
        "%matplotlib inline"
      ],
      "execution_count": null,
      "outputs": []
    },
    {
      "cell_type": "code",
      "metadata": {
        "id": "r9PYOaSm6nXL"
      },
      "source": [
        "df_temp = pd.DataFrame()\r\n",
        "df1 = pd.DataFrame()\r\n",
        "df2 = pd.DataFrame()\r\n",
        "df1_test = pd.DataFrame()\r\n",
        "df2_test = pd.DataFrame()"
      ],
      "execution_count": null,
      "outputs": []
    },
    {
      "cell_type": "code",
      "metadata": {
        "id": "NsuG0y_F6xfN"
      },
      "source": [
        "train_start = 1\r\n",
        "train_end = 10\r\n",
        "train_step = 1"
      ],
      "execution_count": null,
      "outputs": []
    },
    {
      "cell_type": "code",
      "metadata": {
        "id": "pfaQIcDZ7Ydm"
      },
      "source": [
        "test_start = 11\r\n",
        "test_end = 13\r\n",
        "test_step = 1"
      ],
      "execution_count": null,
      "outputs": []
    },
    {
      "cell_type": "code",
      "metadata": {
        "id": "aTF4tdnN7ZCf"
      },
      "source": [
        "for i in range(train_start,train_end+1,train_step):\r\n",
        "  df_temp = pd.read_csv('/content/drive/My Drive/BTP/Images/p'+str(i)+'/opRGB.csv')\r\n",
        "  df1 = df1.append(df_temp)\r\n",
        "  df_temp = pd.read_csv('/content/drive/My Drive/BTP/Images/p'+str(i)+'/T_cal.csv')\r\n",
        "  df2 = df2.append(df_temp)"
      ],
      "execution_count": null,
      "outputs": []
    },
    {
      "cell_type": "code",
      "metadata": {
        "id": "f2VoI6r1CtRt"
      },
      "source": [
        "for i in range(test_start,test_end+1,test_step):\r\n",
        "  df_temp = pd.read_csv('/content/drive/My Drive/BTP/Images/p'+str(i)+'/opRGB.csv')\r\n",
        "  df1_test = df1_test.append(df_temp)\r\n",
        "  df_temp = pd.read_csv('/content/drive/My Drive/BTP/Images/p'+str(i)+'/T_cal.csv')\r\n",
        "  df2_test = df2_test.append(df_temp)"
      ],
      "execution_count": null,
      "outputs": []
    },
    {
      "cell_type": "code",
      "metadata": {
        "colab": {
          "base_uri": "https://localhost:8080/"
        },
        "id": "Zq2BD0ds8vdH",
        "outputId": "872e826b-2dcc-4f64-b23d-7b798fdceab8"
      },
      "source": [
        "print(df1.shape)\r\n",
        "print(df2.shape)\r\n",
        "print(df1.head())\r\n",
        "print(df2.head())\r\n",
        "\r\n",
        "print(df1_test.shape)\r\n",
        "print(df2_test.shape)\r\n",
        "print(df1_test.head())\r\n",
        "print(df2_test.head())"
      ],
      "execution_count": null,
      "outputs": [
        {
          "output_type": "stream",
          "text": [
            "(680944, 3)\n",
            "(680944, 1)\n",
            "   R  G  B\n",
            "0  9  9  9\n",
            "1  4  4  4\n",
            "2  1  1  1\n",
            "3  2  2  2\n",
            "4  2  2  2\n",
            "   T_cal\n",
            "0   1700\n",
            "1   1700\n",
            "2   1800\n",
            "3   1800\n",
            "4   1800\n",
            "(153239, 3)\n",
            "(153239, 1)\n",
            "   R  G  B\n",
            "0  7  5  6\n",
            "1  6  4  5\n",
            "2  4  2  3\n",
            "3  3  1  2\n",
            "4  3  1  2\n",
            "   T_cal\n",
            "0   1100\n",
            "1   1000\n",
            "2   1000\n",
            "3   1000\n",
            "4   1000\n"
          ],
          "name": "stdout"
        }
      ]
    },
    {
      "cell_type": "code",
      "metadata": {
        "colab": {
          "base_uri": "https://localhost:8080/"
        },
        "id": "M-E2Hxwj9TjG",
        "outputId": "203bab26-7c45-483d-e1dc-ec8ff954515c"
      },
      "source": [
        "df2['T_cal'].value_counts()"
      ],
      "execution_count": null,
      "outputs": [
        {
          "output_type": "execute_result",
          "data": {
            "text/plain": [
              "298     604758\n",
              "1700     33507\n",
              "1600     15476\n",
              "1000     10547\n",
              "1800      9906\n",
              "1300      2417\n",
              "1500      1983\n",
              "1100       893\n",
              "1400       705\n",
              "1900       533\n",
              "2000       187\n",
              "1200        32\n",
              "Name: T_cal, dtype: int64"
            ]
          },
          "metadata": {
            "tags": []
          },
          "execution_count": 18
        }
      ]
    },
    {
      "cell_type": "code",
      "metadata": {
        "colab": {
          "base_uri": "https://localhost:8080/"
        },
        "id": "0HgYmv1u9kVV",
        "outputId": "2fbdc402-1858-4905-89ba-3a56a1f8fadb"
      },
      "source": [
        "X = df1[['R', 'G','B']] .values#.astype(float)\r\n",
        "X[0:5]"
      ],
      "execution_count": null,
      "outputs": [
        {
          "output_type": "execute_result",
          "data": {
            "text/plain": [
              "array([[9, 9, 9],\n",
              "       [4, 4, 4],\n",
              "       [1, 1, 1],\n",
              "       [2, 2, 2],\n",
              "       [2, 2, 2]])"
            ]
          },
          "metadata": {
            "tags": []
          },
          "execution_count": 19
        }
      ]
    },
    {
      "cell_type": "code",
      "metadata": {
        "colab": {
          "base_uri": "https://localhost:8080/"
        },
        "id": "MWP-60M7DRuw",
        "outputId": "e1d44da8-44af-477e-9057-80e94a3ce0bc"
      },
      "source": [
        "X_tst = df1_test[['R', 'G','B']] .values#.astype(float)\r\n",
        "X_tst[0:5]"
      ],
      "execution_count": null,
      "outputs": [
        {
          "output_type": "execute_result",
          "data": {
            "text/plain": [
              "array([[7, 5, 6],\n",
              "       [6, 4, 5],\n",
              "       [4, 2, 3],\n",
              "       [3, 1, 2],\n",
              "       [3, 1, 2]])"
            ]
          },
          "metadata": {
            "tags": []
          },
          "execution_count": 20
        }
      ]
    },
    {
      "cell_type": "code",
      "metadata": {
        "colab": {
          "base_uri": "https://localhost:8080/"
        },
        "id": "bMG3estG-LyE",
        "outputId": "b738804e-164e-4827-ba69-b939d181c83a"
      },
      "source": [
        "y = df2['T_cal'].values\r\n",
        "y[0:]"
      ],
      "execution_count": null,
      "outputs": [
        {
          "output_type": "execute_result",
          "data": {
            "text/plain": [
              "array([1700, 1700, 1800, ..., 1000, 1000, 1100])"
            ]
          },
          "metadata": {
            "tags": []
          },
          "execution_count": 21
        }
      ]
    },
    {
      "cell_type": "code",
      "metadata": {
        "colab": {
          "base_uri": "https://localhost:8080/"
        },
        "id": "nHb_agclDb1e",
        "outputId": "fc685cce-7396-45c7-a5f7-2891ec369bfb"
      },
      "source": [
        "y_tst = df2_test['T_cal'].values\r\n",
        "y_tst[0:]"
      ],
      "execution_count": null,
      "outputs": [
        {
          "output_type": "execute_result",
          "data": {
            "text/plain": [
              "array([1100, 1000, 1000, ..., 1000, 1000, 1000])"
            ]
          },
          "metadata": {
            "tags": []
          },
          "execution_count": 22
        }
      ]
    },
    {
      "cell_type": "code",
      "metadata": {
        "id": "3kMdggl8-NZ3"
      },
      "source": [
        "#X = preprocessing.StandardScaler().fit(X).transform(X.astype(float))\r\n",
        "#print(X[0:5])\r\n",
        "#standard deviation=1 and mean =0"
      ],
      "execution_count": null,
      "outputs": []
    },
    {
      "cell_type": "code",
      "metadata": {
        "colab": {
          "base_uri": "https://localhost:8080/",
          "height": 52
        },
        "id": "ls_LszMY-Tps",
        "outputId": "ab0f4282-3c00-475f-fbdb-0f45b7c3a9ab"
      },
      "source": [
        "'''from sklearn.model_selection import train_test_split\r\n",
        "X_train, X_test, y_train, y_test = train_test_split( X, y, test_size=0.01, random_state=42)\r\n",
        "print('Train set:', X_train.shape,  y_train.shape )\r\n",
        "print('Test set:', X_test.shape,  y_test.shape)'''"
      ],
      "execution_count": null,
      "outputs": [
        {
          "output_type": "execute_result",
          "data": {
            "application/vnd.google.colaboratory.intrinsic+json": {
              "type": "string"
            },
            "text/plain": [
              "\"from sklearn.model_selection import train_test_split\\nX_train, X_test, y_train, y_test = train_test_split( X, y, test_size=0.01, random_state=42)\\nprint('Train set:', X_train.shape,  y_train.shape )\\nprint('Test set:', X_test.shape,  y_test.shape)\""
            ]
          },
          "metadata": {
            "tags": []
          },
          "execution_count": 24
        }
      ]
    },
    {
      "cell_type": "code",
      "metadata": {
        "id": "7a320ceR-Y73"
      },
      "source": [
        "X_train = X\r\n",
        "X_test = X_tst\r\n",
        "y_train = y\r\n",
        "y_test = y_tst"
      ],
      "execution_count": null,
      "outputs": []
    },
    {
      "cell_type": "code",
      "metadata": {
        "id": "chEGlprd-cx8"
      },
      "source": [
        "from sklearn.neighbors import KNeighborsClassifier"
      ],
      "execution_count": null,
      "outputs": []
    },
    {
      "cell_type": "code",
      "metadata": {
        "id": "5zuoN617-ew7"
      },
      "source": [
        "k=9"
      ],
      "execution_count": null,
      "outputs": []
    },
    {
      "cell_type": "code",
      "metadata": {
        "colab": {
          "base_uri": "https://localhost:8080/"
        },
        "id": "jZX4n3XB-ih2",
        "outputId": "64d6cab0-f422-4ab0-84f5-0782244339cb"
      },
      "source": [
        "neigh = KNeighborsClassifier(n_neighbors = k).fit(X_train,y_train)\r\n",
        "print(neigh)"
      ],
      "execution_count": null,
      "outputs": [
        {
          "output_type": "stream",
          "text": [
            "KNeighborsClassifier(algorithm='auto', leaf_size=30, metric='minkowski',\n",
            "                     metric_params=None, n_jobs=None, n_neighbors=9, p=2,\n",
            "                     weights='uniform')\n"
          ],
          "name": "stdout"
        }
      ]
    },
    {
      "cell_type": "code",
      "metadata": {
        "colab": {
          "base_uri": "https://localhost:8080/"
        },
        "id": "tSmFQWwD-lI8",
        "outputId": "a4960d12-86f1-4314-bf98-25ff3b935bb1"
      },
      "source": [
        "yhat = neigh.predict(X_test)\r\n",
        "yhat[0:5]"
      ],
      "execution_count": null,
      "outputs": [
        {
          "output_type": "execute_result",
          "data": {
            "text/plain": [
              "array([298, 298, 298, 298, 298])"
            ]
          },
          "metadata": {
            "tags": []
          },
          "execution_count": 29
        }
      ]
    },
    {
      "cell_type": "code",
      "metadata": {
        "colab": {
          "base_uri": "https://localhost:8080/"
        },
        "id": "sdnQL58D-mfn",
        "outputId": "3915a22e-9191-4244-8ed1-82285b107a66"
      },
      "source": [
        "y_train[0:]"
      ],
      "execution_count": null,
      "outputs": [
        {
          "output_type": "execute_result",
          "data": {
            "text/plain": [
              "array([1700, 1700, 1800, ..., 1000, 1000, 1100])"
            ]
          },
          "metadata": {
            "tags": []
          },
          "execution_count": 30
        }
      ]
    },
    {
      "cell_type": "code",
      "metadata": {
        "colab": {
          "base_uri": "https://localhost:8080/"
        },
        "id": "qHGkOTdl-oB_",
        "outputId": "acecdd27-52b7-4f8d-9a4f-50bc85117759"
      },
      "source": [
        "from sklearn import metrics\r\n",
        "print(\"Train set Accuracy: \", metrics.accuracy_score(y_train, neigh.predict(X_train)))\r\n",
        "print(\"Test set Accuracy: \", metrics.accuracy_score(y_test, yhat))"
      ],
      "execution_count": null,
      "outputs": [
        {
          "output_type": "stream",
          "text": [
            "Train set Accuracy:  0.9352119998120256\n",
            "Test set Accuracy:  0.9207120902642277\n"
          ],
          "name": "stdout"
        }
      ]
    },
    {
      "cell_type": "code",
      "metadata": {
        "colab": {
          "base_uri": "https://localhost:8080/"
        },
        "id": "P8c5fvVI-p6q",
        "outputId": "6576fc01-a417-4fda-c186-8764ca2ae8ee"
      },
      "source": [
        "cnf_matrix = confusion_matrix(y_test, yhat)\r\n",
        "print(cnf_matrix)"
      ],
      "execution_count": null,
      "outputs": [
        {
          "output_type": "stream",
          "text": [
            "[[137616     92      0      6      2     48    767    318     95      1]\n",
            " [  2618     23      0      5      0      9    154    101     37      0]\n",
            " [   227      2      0      0      0      4      4      3      1      0]\n",
            " [   324      9      0      1      1     10     94     41      6      0]\n",
            " [   155      2      0      1      1     10     58      3      1      0]\n",
            " [   472      1      0      1      0     29    191     11      5      0]\n",
            " [  2274     45      0     37      8     57   1420    674     51      0]\n",
            " [  1277     55      0      5      0      2    467   1829    219      0]\n",
            " [   513     14      0      3      0      0     20    489    170      0]\n",
            " [    40      0      0      0      0      0      0      7      3      0]]\n"
          ],
          "name": "stdout"
        }
      ]
    },
    {
      "cell_type": "code",
      "metadata": {
        "colab": {
          "base_uri": "https://localhost:8080/"
        },
        "id": "P5UhqUl2-s6n",
        "outputId": "4a0ea59d-95b2-459c-c810-c85c215161e0"
      },
      "source": [
        "#code for finding the best k\r\n",
        "#Ks = len(X_train)+1\r\n",
        "Ks = 10\r\n",
        "mean_acc = np.zeros((Ks-1))\r\n",
        "std_acc = np.zeros((Ks-1))\r\n",
        "#ConfustionMx = [];\r\n",
        "for n in range(1,Ks):\r\n",
        "    \r\n",
        "    #Train Model and Predict  \r\n",
        "    neigh = KNeighborsClassifier(n_neighbors = n).fit(X_train,y_train)\r\n",
        "    yhat=neigh.predict(X_test)\r\n",
        "    mean_acc[n-1] = metrics.accuracy_score(y_test, yhat)\r\n",
        "\r\n",
        "    \r\n",
        "    std_acc[n-1]=np.std(yhat==y_test)/np.sqrt(yhat.shape[0])\r\n",
        "\r\n",
        "mean_acc"
      ],
      "execution_count": null,
      "outputs": [
        {
          "output_type": "execute_result",
          "data": {
            "text/plain": [
              "array([0.89158765, 0.9106559 , 0.91141289, 0.91549801, 0.91647688,\n",
              "       0.91890446, 0.9192438 , 0.92028139, 0.92071209])"
            ]
          },
          "metadata": {
            "tags": []
          },
          "execution_count": 140
        }
      ]
    },
    {
      "cell_type": "code",
      "metadata": {
        "colab": {
          "base_uri": "https://localhost:8080/",
          "height": 297
        },
        "id": "0dvEltak-xcM",
        "outputId": "b213b60d-364d-4bdc-b4ef-bb6e74406087"
      },
      "source": [
        "plt.plot(range(1,Ks),mean_acc,'g')\r\n",
        "plt.fill_between(range(1,Ks),mean_acc - 1 * std_acc,mean_acc + 1 * std_acc, alpha=0.10)\r\n",
        "plt.legend(('Accuracy ', '+/- 3xstd'))\r\n",
        "plt.ylabel('Accuracy ')\r\n",
        "plt.xlabel('Number of Nabors (K)')\r\n",
        "plt.tight_layout()\r\n",
        "plt.show()"
      ],
      "execution_count": null,
      "outputs": [
        {
          "output_type": "display_data",
          "data": {
            "image/png": "[encoded data removed]",
            "text/plain": [
              "<Figure size 432x288 with 1 Axes>"
            ]
          },
          "metadata": {
            "tags": [],
            "needs_background": "light"
          }
        }
      ]
    },
    {
      "cell_type": "code",
      "metadata": {
        "colab": {
          "base_uri": "https://localhost:8080/"
        },
        "id": "fiVe9ApN-1Q1",
        "outputId": "e28dbc9d-8d4c-4d55-d7ac-51942d050fd8"
      },
      "source": [
        "print( \"The best accuracy was with\", mean_acc.max(), \"with k=\", mean_acc.argmax()+1)"
      ],
      "execution_count": null,
      "outputs": [
        {
          "output_type": "stream",
          "text": [
            "The best accuracy was with 0.9207120902642277 with k= 9\n"
          ],
          "name": "stdout"
        }
      ]
    },
    {
      "cell_type": "markdown",
      "metadata": {
        "id": "x4PYdOkIJRSJ"
      },
      "source": [
        "Result Generation"
      ]
    },
    {
      "cell_type": "code",
      "metadata": {
        "id": "-orQm7OYDwia"
      },
      "source": [
        "image_start = 1\r\n",
        "image_end = 13\r\n",
        "image_step = 1"
      ],
      "execution_count": null,
      "outputs": []
    },
    {
      "cell_type": "code",
      "metadata": {
        "id": "snmpexpNDwkj"
      },
      "source": [
        "for i in range(image_start,image_end+1,image_step):\r\n",
        "  df_temp = pd.read_csv('/content/drive/My Drive/BTP/Images/p'+str(i)+'/opRGB.csv')\r\n",
        "  X_temp = df_temp[['R', 'G','B']] .values\r\n",
        "  yhat_temp = neigh.predict(X_temp)\r\n",
        "  DF = pd.DataFrame(yhat_temp)\r\n",
        "  DF.to_csv('/content/drive/My Drive/BTP/Temp_results/p'+str(i)+'_pred.csv')"
      ],
      "execution_count": null,
      "outputs": []
    },
    {
      "cell_type": "code",
      "metadata": {
        "id": "-ystJCz__PSa"
      },
      "source": [
        "#DF[0].value_counts()"
      ],
      "execution_count": null,
      "outputs": []
    },
    {
      "cell_type": "code",
      "metadata": {
        "id": "hlCwfJm__Qk8"
      },
      "source": [
        "#df2_test['T_cal'].value_counts()"
      ],
      "execution_count": null,
      "outputs": []
    },
    {
      "cell_type": "code",
      "metadata": {
        "id": "mYspXzFWHZqW"
      },
      "source": [
        "df3 = pd.read_csv('/content/drive/My Drive/BTP/Images/p13/T_cal.csv')"
      ],
      "execution_count": null,
      "outputs": []
    },
    {
      "cell_type": "code",
      "metadata": {
        "colab": {
          "base_uri": "https://localhost:8080/"
        },
        "id": "igNVEMeBQwkF",
        "outputId": "74f0de4f-c9ca-4b92-c1f8-c39c2c4af99f"
      },
      "source": [
        "df3['T_cal'].value_counts()"
      ],
      "execution_count": null,
      "outputs": [
        {
          "output_type": "execute_result",
          "data": {
            "text/plain": [
              "298     46361\n",
              "1600     1348\n",
              "1700     1260\n",
              "1000      952\n",
              "1800      347\n",
              "1500      187\n",
              "1300      147\n",
              "1400       62\n",
              "1100       17\n",
              "1900        8\n",
              "Name: T_cal, dtype: int64"
            ]
          },
          "metadata": {
            "tags": []
          },
          "execution_count": 41
        }
      ]
    },
    {
      "cell_type": "code",
      "metadata": {
        "id": "Ujs6nFiMQz09"
      },
      "source": [
        "df4 = pd.read_csv('/content/drive/My Drive/BTP/Temp_results/p13_pred.csv')"
      ],
      "execution_count": null,
      "outputs": []
    },
    {
      "cell_type": "code",
      "metadata": {
        "colab": {
          "base_uri": "https://localhost:8080/",
          "height": 195
        },
        "id": "qTrp_z6KQ8ei",
        "outputId": "65096b48-2e6d-4dab-d61e-b4cd08bd23ea"
      },
      "source": [
        "df4.head()"
      ],
      "execution_count": null,
      "outputs": [
        {
          "output_type": "execute_result",
          "data": {
            "text/html": [
              "<div>\n",
              "<style scoped>\n",
              "    .dataframe tbody tr th:only-of-type {\n",
              "        vertical-align: middle;\n",
              "    }\n",
              "\n",
              "    .dataframe tbody tr th {\n",
              "        vertical-align: top;\n",
              "    }\n",
              "\n",
              "    .dataframe thead th {\n",
              "        text-align: right;\n",
              "    }\n",
              "</style>\n",
              "<table border=\"1\" class=\"dataframe\">\n",
              "  <thead>\n",
              "    <tr style=\"text-align: right;\">\n",
              "      <th></th>\n",
              "      <th>Unnamed: 0</th>\n",
              "      <th>0</th>\n",
              "    </tr>\n",
              "  </thead>\n",
              "  <tbody>\n",
              "    <tr>\n",
              "      <th>0</th>\n",
              "      <td>0</td>\n",
              "      <td>298</td>\n",
              "    </tr>\n",
              "    <tr>\n",
              "      <th>1</th>\n",
              "      <td>1</td>\n",
              "      <td>298</td>\n",
              "    </tr>\n",
              "    <tr>\n",
              "      <th>2</th>\n",
              "      <td>2</td>\n",
              "      <td>298</td>\n",
              "    </tr>\n",
              "    <tr>\n",
              "      <th>3</th>\n",
              "      <td>3</td>\n",
              "      <td>298</td>\n",
              "    </tr>\n",
              "    <tr>\n",
              "      <th>4</th>\n",
              "      <td>4</td>\n",
              "      <td>298</td>\n",
              "    </tr>\n",
              "  </tbody>\n",
              "</table>\n",
              "</div>"
            ],
            "text/plain": [
              "   Unnamed: 0    0\n",
              "0           0  298\n",
              "1           1  298\n",
              "2           2  298\n",
              "3           3  298\n",
              "4           4  298"
            ]
          },
          "metadata": {
            "tags": []
          },
          "execution_count": 43
        }
      ]
    },
    {
      "cell_type": "code",
      "metadata": {
        "colab": {
          "base_uri": "https://localhost:8080/"
        },
        "id": "F3fMIFLeQ_b5",
        "outputId": "d7bd92db-a2e5-4100-b6f2-49be260d6425"
      },
      "source": [
        "df4['0'].value_counts()"
      ],
      "execution_count": null,
      "outputs": [
        {
          "output_type": "execute_result",
          "data": {
            "text/plain": [
              "298     48607\n",
              "1700      982\n",
              "1600      761\n",
              "1800      206\n",
              "1000       75\n",
              "1500       44\n",
              "1300       13\n",
              "1900        1\n",
              "Name: 0, dtype: int64"
            ]
          },
          "metadata": {
            "tags": []
          },
          "execution_count": 44
        }
      ]
    },
    {
      "cell_type": "code",
      "metadata": {
        "id": "rnJgXSuORDqK"
      },
      "source": [
        ""
      ],
      "execution_count": null,
      "outputs": []
    }
  ]
}